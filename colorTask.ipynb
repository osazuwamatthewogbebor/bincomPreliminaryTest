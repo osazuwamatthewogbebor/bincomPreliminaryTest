{
 "cells": [
  {
   "cell_type": "code",
   "execution_count": 1,
   "id": "abce4afc-d3a8-438c-bfba-075e20edb4af",
   "metadata": {},
   "outputs": [],
   "source": [
    "import pandas as pd\n",
    "import matplotlib.colors as mcolors\n",
    "import os\n",
    "import psycopg2\n",
    "from dotenv import load_dotenv"
   ]
  },
  {
   "cell_type": "markdown",
   "id": "4adcbd02-489b-4dc9-98e4-217dfb93f315",
   "metadata": {},
   "source": [
    "## 1. Reading HTML file and Creating DataFrame"
   ]
  },
  {
   "cell_type": "code",
   "execution_count": 2,
   "id": "bfe65e37-6fba-4c98-8fdf-c73f1e2e5c2e",
   "metadata": {},
   "outputs": [],
   "source": [
    "df = pd.read_html(\"./python_class_question.html\")[0]"
   ]
  },
  {
   "cell_type": "code",
   "execution_count": 3,
   "id": "e242c376-6e50-4587-a34b-5f0c2afd47a5",
   "metadata": {},
   "outputs": [
    {
     "data": {
      "text/html": [
       "<div>\n",
       "<style scoped>\n",
       "    .dataframe tbody tr th:only-of-type {\n",
       "        vertical-align: middle;\n",
       "    }\n",
       "\n",
       "    .dataframe tbody tr th {\n",
       "        vertical-align: top;\n",
       "    }\n",
       "\n",
       "    .dataframe thead th {\n",
       "        text-align: right;\n",
       "    }\n",
       "</style>\n",
       "<table border=\"1\" class=\"dataframe\">\n",
       "  <thead>\n",
       "    <tr style=\"text-align: right;\">\n",
       "      <th></th>\n",
       "      <th>DAY</th>\n",
       "      <th>COLOURS</th>\n",
       "    </tr>\n",
       "  </thead>\n",
       "  <tbody>\n",
       "    <tr>\n",
       "      <th>0</th>\n",
       "      <td>MONDAY</td>\n",
       "      <td>GREEN, YELLOW, GREEN, BROWN, BLUE, PINK, BLUE,...</td>\n",
       "    </tr>\n",
       "    <tr>\n",
       "      <th>1</th>\n",
       "      <td>TUESDAY</td>\n",
       "      <td>ARSH, BROWN, GREEN, BROWN, BLUE, BLUE, BLEW, P...</td>\n",
       "    </tr>\n",
       "    <tr>\n",
       "      <th>2</th>\n",
       "      <td>WEDNESDAY</td>\n",
       "      <td>GREEN, YELLOW, GREEN, BROWN, BLUE, PINK, RED, ...</td>\n",
       "    </tr>\n",
       "    <tr>\n",
       "      <th>3</th>\n",
       "      <td>THURSDAY</td>\n",
       "      <td>BLUE, BLUE, GREEN, WHITE, BLUE, BROWN, PINK, Y...</td>\n",
       "    </tr>\n",
       "    <tr>\n",
       "      <th>4</th>\n",
       "      <td>FRIDAY</td>\n",
       "      <td>GREEN, WHITE, GREEN, BROWN, BLUE, BLUE, BLACK,...</td>\n",
       "    </tr>\n",
       "  </tbody>\n",
       "</table>\n",
       "</div>"
      ],
      "text/plain": [
       "         DAY                                            COLOURS\n",
       "0     MONDAY  GREEN, YELLOW, GREEN, BROWN, BLUE, PINK, BLUE,...\n",
       "1    TUESDAY  ARSH, BROWN, GREEN, BROWN, BLUE, BLUE, BLEW, P...\n",
       "2  WEDNESDAY  GREEN, YELLOW, GREEN, BROWN, BLUE, PINK, RED, ...\n",
       "3   THURSDAY  BLUE, BLUE, GREEN, WHITE, BLUE, BROWN, PINK, Y...\n",
       "4     FRIDAY  GREEN, WHITE, GREEN, BROWN, BLUE, BLUE, BLACK,..."
      ]
     },
     "execution_count": 3,
     "metadata": {},
     "output_type": "execute_result"
    }
   ],
   "source": [
    "df.head()\n"
   ]
  },
  {
   "cell_type": "markdown",
   "id": "97a27a8b-18c3-46e6-b564-b7ae833d3056",
   "metadata": {},
   "source": [
    "### Retrieving grouped colours and convering to a list of single colours"
   ]
  },
  {
   "cell_type": "code",
   "execution_count": 4,
   "id": "c6efb8ab-2cff-4286-b331-9ddb0685ea2d",
   "metadata": {},
   "outputs": [
    {
     "data": {
      "text/plain": [
       "['GREEN, YELLOW, GREEN, BROWN, BLUE, PINK, BLUE, YELLOW, ORANGE, CREAM, ORANGE, RED, WHITE, BLUE, WHITE, BLUE, BLUE, BLUE, GREEN',\n",
       " 'ARSH, BROWN, GREEN, BROWN, BLUE, BLUE, BLEW, PINK, PINK, ORANGE, ORANGE, RED, WHITE, BLUE, WHITE, WHITE, BLUE, BLUE, BLUE',\n",
       " 'GREEN, YELLOW, GREEN, BROWN, BLUE, PINK, RED, YELLOW, ORANGE, RED, ORANGE, RED, BLUE, BLUE, WHITE, BLUE, BLUE, WHITE, WHITE',\n",
       " 'BLUE, BLUE, GREEN, WHITE, BLUE, BROWN, PINK, YELLOW, ORANGE, CREAM, ORANGE, RED, WHITE, BLUE, WHITE, BLUE, BLUE, BLUE, GREEN',\n",
       " 'GREEN, WHITE, GREEN, BROWN, BLUE, BLUE, BLACK, WHITE, ORANGE, RED, RED, RED, WHITE, BLUE, WHITE, BLUE, BLUE, BLUE, WHITE']"
      ]
     },
     "execution_count": 4,
     "metadata": {},
     "output_type": "execute_result"
    }
   ],
   "source": [
    "colour_group_list = df[\"COLOURS\"].tolist() \n",
    "colour_group_list"
   ]
  },
  {
   "cell_type": "code",
   "execution_count": 5,
   "id": "78503c76-1049-492e-8481-4cd2cd6a341f",
   "metadata": {},
   "outputs": [
    {
     "data": {
      "text/plain": [
       "95"
      ]
     },
     "execution_count": 5,
     "metadata": {},
     "output_type": "execute_result"
    }
   ],
   "source": [
    "colour_list = []\n",
    "\n",
    "for colour_group in colour_group_list:\n",
    "    for colour in colour_group.split(\",\"):\n",
    "        colour_list.append(colour.strip())\n",
    "\n",
    "len(colour_list)"
   ]
  },
  {
   "cell_type": "markdown",
   "id": "994991af-d667-40dd-8f77-f0035c360d23",
   "metadata": {},
   "source": [
    "### Creating DataFrame form List of colours"
   ]
  },
  {
   "cell_type": "code",
   "execution_count": 6,
   "id": "dfc5a642-41f5-4e5f-8c49-af52d285e16c",
   "metadata": {},
   "outputs": [
    {
     "data": {
      "text/html": [
       "<div>\n",
       "<style scoped>\n",
       "    .dataframe tbody tr th:only-of-type {\n",
       "        vertical-align: middle;\n",
       "    }\n",
       "\n",
       "    .dataframe tbody tr th {\n",
       "        vertical-align: top;\n",
       "    }\n",
       "\n",
       "    .dataframe thead th {\n",
       "        text-align: right;\n",
       "    }\n",
       "</style>\n",
       "<table border=\"1\" class=\"dataframe\">\n",
       "  <thead>\n",
       "    <tr style=\"text-align: right;\">\n",
       "      <th></th>\n",
       "      <th>colours</th>\n",
       "    </tr>\n",
       "  </thead>\n",
       "  <tbody>\n",
       "    <tr>\n",
       "      <th>0</th>\n",
       "      <td>GREEN</td>\n",
       "    </tr>\n",
       "    <tr>\n",
       "      <th>1</th>\n",
       "      <td>YELLOW</td>\n",
       "    </tr>\n",
       "    <tr>\n",
       "      <th>2</th>\n",
       "      <td>GREEN</td>\n",
       "    </tr>\n",
       "    <tr>\n",
       "      <th>3</th>\n",
       "      <td>BROWN</td>\n",
       "    </tr>\n",
       "    <tr>\n",
       "      <th>4</th>\n",
       "      <td>BLUE</td>\n",
       "    </tr>\n",
       "  </tbody>\n",
       "</table>\n",
       "</div>"
      ],
      "text/plain": [
       "  colours\n",
       "0   GREEN\n",
       "1  YELLOW\n",
       "2   GREEN\n",
       "3   BROWN\n",
       "4    BLUE"
      ]
     },
     "execution_count": 6,
     "metadata": {},
     "output_type": "execute_result"
    }
   ],
   "source": [
    "colour_df = pd.DataFrame(colour_list, columns=[\"colours\"])\n",
    "colour_df.head()"
   ]
  },
  {
   "cell_type": "code",
   "execution_count": 7,
   "id": "690a344c-5c55-4bce-b5fe-0bef44d64438",
   "metadata": {},
   "outputs": [
    {
     "name": "stdout",
     "output_type": "stream",
     "text": [
      "<class 'pandas.core.frame.DataFrame'>\n",
      "RangeIndex: 95 entries, 0 to 94\n",
      "Data columns (total 1 columns):\n",
      " #   Column   Non-Null Count  Dtype \n",
      "---  ------   --------------  ----- \n",
      " 0   colours  95 non-null     object\n",
      "dtypes: object(1)\n",
      "memory usage: 892.0+ bytes\n"
     ]
    }
   ],
   "source": [
    "colour_df.info()"
   ]
  },
  {
   "cell_type": "code",
   "execution_count": 8,
   "id": "040ac906-6faa-4a6e-8e77-17c3aa3b620a",
   "metadata": {},
   "outputs": [
    {
     "data": {
      "text/html": [
       "<div>\n",
       "<style scoped>\n",
       "    .dataframe tbody tr th:only-of-type {\n",
       "        vertical-align: middle;\n",
       "    }\n",
       "\n",
       "    .dataframe tbody tr th {\n",
       "        vertical-align: top;\n",
       "    }\n",
       "\n",
       "    .dataframe thead th {\n",
       "        text-align: right;\n",
       "    }\n",
       "</style>\n",
       "<table border=\"1\" class=\"dataframe\">\n",
       "  <thead>\n",
       "    <tr style=\"text-align: right;\">\n",
       "      <th></th>\n",
       "      <th>colours</th>\n",
       "    </tr>\n",
       "  </thead>\n",
       "  <tbody>\n",
       "    <tr>\n",
       "      <th>count</th>\n",
       "      <td>95</td>\n",
       "    </tr>\n",
       "    <tr>\n",
       "      <th>unique</th>\n",
       "      <td>12</td>\n",
       "    </tr>\n",
       "    <tr>\n",
       "      <th>top</th>\n",
       "      <td>BLUE</td>\n",
       "    </tr>\n",
       "    <tr>\n",
       "      <th>freq</th>\n",
       "      <td>30</td>\n",
       "    </tr>\n",
       "  </tbody>\n",
       "</table>\n",
       "</div>"
      ],
      "text/plain": [
       "       colours\n",
       "count       95\n",
       "unique      12\n",
       "top       BLUE\n",
       "freq        30"
      ]
     },
     "execution_count": 8,
     "metadata": {},
     "output_type": "execute_result"
    }
   ],
   "source": [
    "colour_df.describe()"
   ]
  },
  {
   "cell_type": "markdown",
   "id": "895423a9-ec71-46bf-a83e-5bcb80e12c3e",
   "metadata": {},
   "source": [
    "## 2. Data Cleaning"
   ]
  },
  {
   "cell_type": "code",
   "execution_count": null,
   "id": "89ab0560-d1c9-4338-b0bc-6f9de1307693",
   "metadata": {},
   "outputs": [],
   "source": []
  },
  {
   "cell_type": "markdown",
   "id": "1c49f44a-6210-4c69-b8ad-ace0e718802a",
   "metadata": {},
   "source": [
    "### Replacing 'ARSH' with 'ASH' and 'BLEW' with 'BLUE' in the COLOURS column"
   ]
  },
  {
   "cell_type": "code",
   "execution_count": 9,
   "id": "a77a9c59-d827-411b-beff-e776cee8fff0",
   "metadata": {},
   "outputs": [
    {
     "data": {
      "text/html": [
       "<div>\n",
       "<style scoped>\n",
       "    .dataframe tbody tr th:only-of-type {\n",
       "        vertical-align: middle;\n",
       "    }\n",
       "\n",
       "    .dataframe tbody tr th {\n",
       "        vertical-align: top;\n",
       "    }\n",
       "\n",
       "    .dataframe thead th {\n",
       "        text-align: right;\n",
       "    }\n",
       "</style>\n",
       "<table border=\"1\" class=\"dataframe\">\n",
       "  <thead>\n",
       "    <tr style=\"text-align: right;\">\n",
       "      <th></th>\n",
       "      <th>colours</th>\n",
       "    </tr>\n",
       "  </thead>\n",
       "  <tbody>\n",
       "    <tr>\n",
       "      <th>0</th>\n",
       "      <td>GREEN</td>\n",
       "    </tr>\n",
       "    <tr>\n",
       "      <th>1</th>\n",
       "      <td>YELLOW</td>\n",
       "    </tr>\n",
       "    <tr>\n",
       "      <th>2</th>\n",
       "      <td>GREEN</td>\n",
       "    </tr>\n",
       "    <tr>\n",
       "      <th>3</th>\n",
       "      <td>BROWN</td>\n",
       "    </tr>\n",
       "    <tr>\n",
       "      <th>4</th>\n",
       "      <td>BLUE</td>\n",
       "    </tr>\n",
       "    <tr>\n",
       "      <th>...</th>\n",
       "      <td>...</td>\n",
       "    </tr>\n",
       "    <tr>\n",
       "      <th>90</th>\n",
       "      <td>WHITE</td>\n",
       "    </tr>\n",
       "    <tr>\n",
       "      <th>91</th>\n",
       "      <td>BLUE</td>\n",
       "    </tr>\n",
       "    <tr>\n",
       "      <th>92</th>\n",
       "      <td>BLUE</td>\n",
       "    </tr>\n",
       "    <tr>\n",
       "      <th>93</th>\n",
       "      <td>BLUE</td>\n",
       "    </tr>\n",
       "    <tr>\n",
       "      <th>94</th>\n",
       "      <td>WHITE</td>\n",
       "    </tr>\n",
       "  </tbody>\n",
       "</table>\n",
       "<p>95 rows × 1 columns</p>\n",
       "</div>"
      ],
      "text/plain": [
       "   colours\n",
       "0    GREEN\n",
       "1   YELLOW\n",
       "2    GREEN\n",
       "3    BROWN\n",
       "4     BLUE\n",
       "..     ...\n",
       "90   WHITE\n",
       "91    BLUE\n",
       "92    BLUE\n",
       "93    BLUE\n",
       "94   WHITE\n",
       "\n",
       "[95 rows x 1 columns]"
      ]
     },
     "execution_count": 9,
     "metadata": {},
     "output_type": "execute_result"
    }
   ],
   "source": [
    "colour_df['colours'] = colour_df['colours'].str.replace(r'\\bARSH\\b', 'ASH', regex=True)\n",
    "colour_df['colours'] = colour_df['colours'].str.replace(r'\\bBLEW\\b', 'BLUE', regex=True)\n",
    "\n",
    "colour_df"
   ]
  },
  {
   "cell_type": "markdown",
   "id": "f69735a2-b599-4f94-9a61-8b6a52efe94a",
   "metadata": {},
   "source": [
    "## Simple EDA"
   ]
  },
  {
   "cell_type": "code",
   "execution_count": 10,
   "id": "538d30a6-9b4c-44bf-9bfc-f8b81b977189",
   "metadata": {},
   "outputs": [],
   "source": [
    "\n",
    "custom_colours = {\n",
    "    'ASH': (0.7, 0.75, 0.71)\n",
    "}"
   ]
  },
  {
   "cell_type": "markdown",
   "id": "61609ed5-b713-4ac9-a9db-7527f9b1b3b1",
   "metadata": {},
   "source": [
    "### Convert colours to RGB value"
   ]
  },
  {
   "cell_type": "code",
   "execution_count": 11,
   "id": "2106936c-91e7-450b-933a-e594fed44d0d",
   "metadata": {},
   "outputs": [
    {
     "data": {
      "text/html": [
       "<div>\n",
       "<style scoped>\n",
       "    .dataframe tbody tr th:only-of-type {\n",
       "        vertical-align: middle;\n",
       "    }\n",
       "\n",
       "    .dataframe tbody tr th {\n",
       "        vertical-align: top;\n",
       "    }\n",
       "\n",
       "    .dataframe thead th {\n",
       "        text-align: right;\n",
       "    }\n",
       "</style>\n",
       "<table border=\"1\" class=\"dataframe\">\n",
       "  <thead>\n",
       "    <tr style=\"text-align: right;\">\n",
       "      <th></th>\n",
       "      <th>colours</th>\n",
       "      <th>r</th>\n",
       "      <th>g</th>\n",
       "      <th>b</th>\n",
       "    </tr>\n",
       "  </thead>\n",
       "  <tbody>\n",
       "    <tr>\n",
       "      <th>0</th>\n",
       "      <td>GREEN</td>\n",
       "      <td>0.000000</td>\n",
       "      <td>0.501961</td>\n",
       "      <td>0.000000</td>\n",
       "    </tr>\n",
       "    <tr>\n",
       "      <th>1</th>\n",
       "      <td>YELLOW</td>\n",
       "      <td>1.000000</td>\n",
       "      <td>1.000000</td>\n",
       "      <td>0.000000</td>\n",
       "    </tr>\n",
       "    <tr>\n",
       "      <th>2</th>\n",
       "      <td>GREEN</td>\n",
       "      <td>0.000000</td>\n",
       "      <td>0.501961</td>\n",
       "      <td>0.000000</td>\n",
       "    </tr>\n",
       "    <tr>\n",
       "      <th>3</th>\n",
       "      <td>BROWN</td>\n",
       "      <td>0.647059</td>\n",
       "      <td>0.164706</td>\n",
       "      <td>0.164706</td>\n",
       "    </tr>\n",
       "    <tr>\n",
       "      <th>4</th>\n",
       "      <td>BLUE</td>\n",
       "      <td>0.000000</td>\n",
       "      <td>0.000000</td>\n",
       "      <td>1.000000</td>\n",
       "    </tr>\n",
       "  </tbody>\n",
       "</table>\n",
       "</div>"
      ],
      "text/plain": [
       "  colours         r         g         b\n",
       "0   GREEN  0.000000  0.501961  0.000000\n",
       "1  YELLOW  1.000000  1.000000  0.000000\n",
       "2   GREEN  0.000000  0.501961  0.000000\n",
       "3   BROWN  0.647059  0.164706  0.164706\n",
       "4    BLUE  0.000000  0.000000  1.000000"
      ]
     },
     "execution_count": 11,
     "metadata": {},
     "output_type": "execute_result"
    }
   ],
   "source": [
    "def colour_to_rgb(colour):\n",
    "    try:\n",
    "        return custom_colours[colour] if colour in custom_colours else mcolors.to_rgb(colour.lower())\n",
    "    except ValueError:\n",
    "        return (None, None, None)\n",
    "\n",
    "colour_df[['r', 'g', 'b']] = colour_df['colours'].apply(colour_to_rgb).apply(pd.Series)\n",
    "\n",
    "colour_df.head()"
   ]
  },
  {
   "cell_type": "markdown",
   "id": "48c726c1-8a30-42ae-8021-fb986165846e",
   "metadata": {},
   "source": [
    "### Computing the mean rgb"
   ]
  },
  {
   "cell_type": "code",
   "execution_count": 12,
   "id": "3ad0b05d-659d-452b-b17e-70800da22df6",
   "metadata": {},
   "outputs": [
    {
     "data": {
      "text/plain": [
       "(np.float64(0.522391), np.float64(0.401571), np.float64(0.566437))"
      ]
     },
     "execution_count": 12,
     "metadata": {},
     "output_type": "execute_result"
    }
   ],
   "source": [
    "mean_rgb = (\n",
    "    round(colour_df['r'].mean(), 6),\n",
    "    round(colour_df['g'].mean(), 6),\n",
    "    round(colour_df['b'].mean(), 6)\n",
    ")\n",
    "\n",
    "mean_rgb"
   ]
  },
  {
   "cell_type": "markdown",
   "id": "028ad258-28f5-447c-9ba8-123bcad95c6d",
   "metadata": {},
   "source": [
    "### Computing median rgb"
   ]
  },
  {
   "cell_type": "code",
   "execution_count": 13,
   "id": "b6eaf51d-1bf6-4c46-a93f-b80f7593a444",
   "metadata": {},
   "outputs": [
    {
     "data": {
      "text/plain": [
       "(np.float64(0.647059), np.float64(0.164706), np.float64(1.0))"
      ]
     },
     "execution_count": 13,
     "metadata": {},
     "output_type": "execute_result"
    }
   ],
   "source": [
    "median_rgb = (\n",
    "    round(colour_df['r'].median(), 6),\n",
    "    round(colour_df['g'].median(), 6),\n",
    "    round(colour_df['b'].median(), 6)\n",
    ")\n",
    "\n",
    "median_rgb"
   ]
  },
  {
   "cell_type": "markdown",
   "id": "7c62fe37-5db2-4b54-800c-edfd20f75d68",
   "metadata": {},
   "source": [
    "### Computing median rgb"
   ]
  },
  {
   "cell_type": "code",
   "execution_count": 14,
   "id": "2e344082-3532-416f-8deb-628504ef7174",
   "metadata": {},
   "outputs": [
    {
     "data": {
      "text/plain": [
       "(np.float64(0.235034), np.float64(0.172289), np.float64(0.228222))"
      ]
     },
     "execution_count": 14,
     "metadata": {},
     "output_type": "execute_result"
    }
   ],
   "source": [
    "variance_rgb = (\n",
    "    round(colour_df['r'].var(), 6),\n",
    "    round(colour_df['g'].var(), 6),\n",
    "    round(colour_df['b'].var(), 6)\n",
    ")\n",
    "\n",
    "variance_rgb"
   ]
  },
  {
   "cell_type": "code",
   "execution_count": null,
   "id": "b1723058-d370-4eb5-b50f-2324bcbc5bc0",
   "metadata": {},
   "outputs": [],
   "source": []
  },
  {
   "cell_type": "markdown",
   "id": "b0f57dbf-56e3-4476-a152-e399f2982fad",
   "metadata": {},
   "source": [
    "## Function to convert rgb values to colour name or closet matching name"
   ]
  },
  {
   "cell_type": "code",
   "execution_count": 15,
   "id": "e31d0b4e-2ff0-4f2e-8713-dd33ada2b1af",
   "metadata": {},
   "outputs": [],
   "source": [
    "\n",
    "def closest_colour_mpl(rgb):\n",
    "    r, g, b = [int(x * 255) for x in rgb]\n",
    "\n",
    "    min_distance = float('inf')\n",
    "    closest_name = None\n",
    "\n",
    "    for name, hex_value in mcolors.CSS4_COLORS.items():\n",
    "        r_c, g_c, b_c = mcolors.to_rgb(hex_value)\n",
    "        r_c, g_c, b_c = int(r_c * 255), int(g_c * 255), int(b_c * 255)\n",
    "        distance = (r - r_c) ** 2 + (g - g_c) ** 2 + (b - b_c) ** 2\n",
    "        if distance < min_distance:\n",
    "            min_distance = distance\n",
    "            closest_name = name\n",
    "\n",
    "    return closest_name\n"
   ]
  },
  {
   "cell_type": "code",
   "execution_count": null,
   "id": "c6b44cbe-70cb-489b-90f5-c5abdd4d391a",
   "metadata": {},
   "outputs": [],
   "source": []
  },
  {
   "cell_type": "markdown",
   "id": "44cd0d9e-1855-42b3-8a7f-2cd4fab8ec16",
   "metadata": {},
   "source": [
    "## Solution"
   ]
  },
  {
   "cell_type": "markdown",
   "id": "a82880a9-947b-4324-a37c-db2dfd8dab28",
   "metadata": {},
   "source": [
    "### 1. Mean"
   ]
  },
  {
   "cell_type": "code",
   "execution_count": 16,
   "id": "c1384f8b-581a-4621-8967-2ca50781aea6",
   "metadata": {},
   "outputs": [
    {
     "name": "stdout",
     "output_type": "stream",
     "text": [
      "Closest colour name: gray\n"
     ]
    }
   ],
   "source": [
    "mean_closest = closest_colour_mpl(mean_rgb)\n",
    "print(\"Closest colour name:\", mean_closest)"
   ]
  },
  {
   "cell_type": "markdown",
   "id": "688fb887-9b16-421b-8d4e-aaa109dff0e9",
   "metadata": {},
   "source": [
    "## Mean colour is GRAY"
   ]
  },
  {
   "cell_type": "code",
   "execution_count": null,
   "id": "f17d42f6-187d-46ee-844c-85e51970d438",
   "metadata": {},
   "outputs": [],
   "source": []
  },
  {
   "cell_type": "markdown",
   "id": "80e22b06-86c1-467e-bdaf-3060cd2caa84",
   "metadata": {},
   "source": [
    "### 2. Most Worn Colour (Mode) "
   ]
  },
  {
   "cell_type": "code",
   "execution_count": 17,
   "id": "876eb8a0-afcd-4955-833a-5bf0e6e572d0",
   "metadata": {},
   "outputs": [
    {
     "name": "stdout",
     "output_type": "stream",
     "text": [
      "The most worm colour is BLUE\n"
     ]
    }
   ],
   "source": [
    "mode = colour_df[\"colours\"].mode()[0].strip()\n",
    "\n",
    "print(f\"The most worm colour is {mode}\")"
   ]
  },
  {
   "cell_type": "markdown",
   "id": "2a0d6af1-6da8-4f21-94be-f388c5c6ec4d",
   "metadata": {},
   "source": [
    "## The most worn colour is BLUE"
   ]
  },
  {
   "cell_type": "code",
   "execution_count": null,
   "id": "293d9d5a-d465-4b0b-b256-270dd1796f78",
   "metadata": {},
   "outputs": [],
   "source": []
  },
  {
   "cell_type": "markdown",
   "id": "c72ffc76-9292-424d-90b2-6d2749b7b0a5",
   "metadata": {},
   "source": [
    "### 3. Median Colour"
   ]
  },
  {
   "cell_type": "code",
   "execution_count": 18,
   "id": "abe3164f-ef65-476d-a4b2-011e558dc202",
   "metadata": {},
   "outputs": [
    {
     "name": "stdout",
     "output_type": "stream",
     "text": [
      "Closest colour name: blueviolet\n"
     ]
    }
   ],
   "source": [
    "median_closest = closest_colour_mpl(median_rgb)\n",
    "\n",
    "print(\"Closest colour name:\", median_closest)"
   ]
  },
  {
   "cell_type": "markdown",
   "id": "13511798-9e24-4d7b-a882-0a6ddfe65a3f",
   "metadata": {},
   "source": [
    "## The median colour is BLUEVIOLET"
   ]
  },
  {
   "cell_type": "code",
   "execution_count": null,
   "id": "94204044-bf27-436d-b63b-4f13b7a481c3",
   "metadata": {},
   "outputs": [],
   "source": []
  },
  {
   "cell_type": "markdown",
   "id": "e8ede9a4-da21-4756-a788-9678e0d3b44d",
   "metadata": {},
   "source": [
    "### 4. Variance of the colors"
   ]
  },
  {
   "cell_type": "code",
   "execution_count": 19,
   "id": "61022f19-03f7-4899-ac24-b959dd08e0ca",
   "metadata": {},
   "outputs": [
    {
     "name": "stdout",
     "output_type": "stream",
     "text": [
      "Closest colour name: darkslategray\n"
     ]
    }
   ],
   "source": [
    "variance_closest = closest_colour_mpl(variance_rgb)\n",
    "print(\"Closest colour name:\", variance_closest)"
   ]
  },
  {
   "cell_type": "markdown",
   "id": "1963ed0c-18f4-4586-a7ae-99a345ef04b7",
   "metadata": {},
   "source": [
    "## The variance of the colours is DARKSLATEGRAY"
   ]
  },
  {
   "cell_type": "code",
   "execution_count": null,
   "id": "9b798c95-53d3-4e61-8ee0-e87d1db76675",
   "metadata": {},
   "outputs": [],
   "source": []
  },
  {
   "cell_type": "markdown",
   "id": "a6674edd-17e6-462b-94ec-82925eb894d1",
   "metadata": {},
   "source": [
    "### 5. Probability that the color is red?"
   ]
  },
  {
   "cell_type": "code",
   "execution_count": 20,
   "id": "144c0cdc-a3d4-41ff-aa34-921c2ea23a22",
   "metadata": {},
   "outputs": [
    {
     "data": {
      "text/plain": [
       "colours\n",
       "BLUE      31\n",
       "WHITE     16\n",
       "GREEN     10\n",
       "ORANGE     9\n",
       "RED        9\n",
       "BROWN      6\n",
       "YELLOW     5\n",
       "PINK       5\n",
       "CREAM      2\n",
       "ASH        1\n",
       "BLACK      1\n",
       "Name: count, dtype: int64"
      ]
     },
     "execution_count": 20,
     "metadata": {},
     "output_type": "execute_result"
    }
   ],
   "source": [
    "colour_df['colours'].value_counts()"
   ]
  },
  {
   "cell_type": "code",
   "execution_count": 21,
   "id": "35803325-d21c-4135-a2d6-25a9919ccd04",
   "metadata": {},
   "outputs": [
    {
     "data": {
      "text/plain": [
       "95"
      ]
     },
     "execution_count": 21,
     "metadata": {},
     "output_type": "execute_result"
    }
   ],
   "source": [
    "len(colour_df)"
   ]
  },
  {
   "cell_type": "code",
   "execution_count": 22,
   "id": "152f73de-77ba-4082-8786-bb6b166d4275",
   "metadata": {},
   "outputs": [
    {
     "name": "stdout",
     "output_type": "stream",
     "text": [
      "Probability colour is RED: 9.47\n"
     ]
    }
   ],
   "source": [
    "probability_red = colour_df['colours'].value_counts().get('RED', 0) / len(colour_df) * 100\n",
    "print(f\"Probability colour is RED: {probability_red:.2f}\")"
   ]
  },
  {
   "cell_type": "markdown",
   "id": "1a86630a-299e-4562-9f4d-6b4e704fe170",
   "metadata": {},
   "source": [
    "## Probability that the colour is RED is 9.47%"
   ]
  },
  {
   "cell_type": "code",
   "execution_count": null,
   "id": "34b00826-e5ff-4204-a21b-7dfad2c45b58",
   "metadata": {},
   "outputs": [],
   "source": []
  },
  {
   "cell_type": "markdown",
   "id": "d58aff43-b88a-4d6a-8b4b-8a18ef4272a3",
   "metadata": {},
   "source": [
    "### 6. Saving the colours and their frequencies in postgresql database"
   ]
  },
  {
   "cell_type": "code",
   "execution_count": null,
   "id": "75dbb8e4-ffc7-473f-8267-528b7520ecad",
   "metadata": {},
   "outputs": [],
   "source": []
  },
  {
   "cell_type": "markdown",
   "id": "c2ba45dc-a2fa-4506-b490-2ab771f19f2f",
   "metadata": {},
   "source": [
    "#### Creating the frequency table"
   ]
  },
  {
   "cell_type": "code",
   "execution_count": 23,
   "id": "d73520fa-8652-4708-81b9-ec0d8fb99ddb",
   "metadata": {},
   "outputs": [
    {
     "data": {
      "text/html": [
       "<div>\n",
       "<style scoped>\n",
       "    .dataframe tbody tr th:only-of-type {\n",
       "        vertical-align: middle;\n",
       "    }\n",
       "\n",
       "    .dataframe tbody tr th {\n",
       "        vertical-align: top;\n",
       "    }\n",
       "\n",
       "    .dataframe thead th {\n",
       "        text-align: right;\n",
       "    }\n",
       "</style>\n",
       "<table border=\"1\" class=\"dataframe\">\n",
       "  <thead>\n",
       "    <tr style=\"text-align: right;\">\n",
       "      <th></th>\n",
       "      <th>colour</th>\n",
       "      <th>frequency</th>\n",
       "    </tr>\n",
       "  </thead>\n",
       "  <tbody>\n",
       "    <tr>\n",
       "      <th>0</th>\n",
       "      <td>BLUE</td>\n",
       "      <td>31</td>\n",
       "    </tr>\n",
       "    <tr>\n",
       "      <th>1</th>\n",
       "      <td>WHITE</td>\n",
       "      <td>16</td>\n",
       "    </tr>\n",
       "    <tr>\n",
       "      <th>2</th>\n",
       "      <td>GREEN</td>\n",
       "      <td>10</td>\n",
       "    </tr>\n",
       "    <tr>\n",
       "      <th>3</th>\n",
       "      <td>ORANGE</td>\n",
       "      <td>9</td>\n",
       "    </tr>\n",
       "    <tr>\n",
       "      <th>4</th>\n",
       "      <td>RED</td>\n",
       "      <td>9</td>\n",
       "    </tr>\n",
       "    <tr>\n",
       "      <th>5</th>\n",
       "      <td>BROWN</td>\n",
       "      <td>6</td>\n",
       "    </tr>\n",
       "    <tr>\n",
       "      <th>6</th>\n",
       "      <td>YELLOW</td>\n",
       "      <td>5</td>\n",
       "    </tr>\n",
       "    <tr>\n",
       "      <th>7</th>\n",
       "      <td>PINK</td>\n",
       "      <td>5</td>\n",
       "    </tr>\n",
       "    <tr>\n",
       "      <th>8</th>\n",
       "      <td>CREAM</td>\n",
       "      <td>2</td>\n",
       "    </tr>\n",
       "    <tr>\n",
       "      <th>9</th>\n",
       "      <td>ASH</td>\n",
       "      <td>1</td>\n",
       "    </tr>\n",
       "    <tr>\n",
       "      <th>10</th>\n",
       "      <td>BLACK</td>\n",
       "      <td>1</td>\n",
       "    </tr>\n",
       "  </tbody>\n",
       "</table>\n",
       "</div>"
      ],
      "text/plain": [
       "    colour  frequency\n",
       "0     BLUE         31\n",
       "1    WHITE         16\n",
       "2    GREEN         10\n",
       "3   ORANGE          9\n",
       "4      RED          9\n",
       "5    BROWN          6\n",
       "6   YELLOW          5\n",
       "7     PINK          5\n",
       "8    CREAM          2\n",
       "9      ASH          1\n",
       "10   BLACK          1"
      ]
     },
     "execution_count": 23,
     "metadata": {},
     "output_type": "execute_result"
    }
   ],
   "source": [
    "freq_df = colour_df['colours'].value_counts().reset_index()\n",
    "freq_df.columns = ['colour', 'frequency']\n",
    "\n",
    "freq_df"
   ]
  },
  {
   "cell_type": "markdown",
   "id": "9d2fa2cb-0001-4b3d-a8dd-dbd33be03626",
   "metadata": {},
   "source": [
    "#### Connecting to a Postgres db with password saved as environment variables"
   ]
  },
  {
   "cell_type": "code",
   "execution_count": 29,
   "id": "db67c75c-d8f4-4cf4-b81d-ae3a8b77c98a",
   "metadata": {},
   "outputs": [
    {
     "name": "stdout",
     "output_type": "stream",
     "text": [
      "Database connection successful.\n"
     ]
    }
   ],
   "source": [
    "load_dotenv()\n",
    "\n",
    "DB_HOST = os.getenv(\"DB_HOST\")\n",
    "DB_NAME = os.getenv(\"DB_NAME\")\n",
    "DB_USER = os.getenv(\"DB_USER\")\n",
    "DB_PASSWORD = os.getenv(\"DB_PASSWORD\")\n",
    "DB_PORT = os.getenv(\"DB_PORT\")\n",
    "\n",
    "required_vars = [DB_HOST, DB_NAME, DB_USER, DB_PASSWORD, DB_PORT]\n",
    "if not all(required_vars):\n",
    "    raise ValueError(\"One or more required environment variables are missing.\")\n",
    "\n",
    "try:\n",
    "    conn = psycopg2.connect(\n",
    "        host=DB_HOST,\n",
    "        dbname=DB_NAME,\n",
    "        user=DB_USER,\n",
    "        password=DB_PASSWORD,\n",
    "        port=DB_PORT\n",
    "    )\n",
    "\n",
    "    cur = conn.cursor()\n",
    "    print(\"Database connection successful.\")\n",
    "except psycopg2.Error as e:\n",
    "    print(\"Database connection failed:\", e)\n",
    "    \n"
   ]
  },
  {
   "cell_type": "code",
   "execution_count": null,
   "id": "1145cebf-88c5-45a7-bcfe-e0ef0551dbf5",
   "metadata": {},
   "outputs": [],
   "source": []
  },
  {
   "cell_type": "markdown",
   "id": "3b37a801-a361-409a-a51f-e022a99d7b1d",
   "metadata": {},
   "source": [
    "#### Create table if it doesn't exist"
   ]
  },
  {
   "cell_type": "code",
   "execution_count": 30,
   "id": "f1fd15d0-46af-45a4-a00c-270d0c56fe80",
   "metadata": {},
   "outputs": [
    {
     "name": "stdout",
     "output_type": "stream",
     "text": [
      "Table created (or already exists) and changes committed.\n"
     ]
    }
   ],
   "source": [
    "try:\n",
    "    cur.execute(\"\"\"\n",
    "        CREATE TABLE IF NOT EXISTS colours_data (\n",
    "            id SERIAL PRIMARY KEY,\n",
    "            colour VARCHAR(54) UNIQUE,\n",
    "            frequency INT\n",
    "        )\n",
    "    \"\"\")\n",
    "    conn.commit()\n",
    "    print(\"Table created (or already exists) and changes committed.\")\n",
    "    \n",
    "except psycopg2.Error as e:\n",
    "    print(\"Failed to create table or commit changes:\", e)\n",
    "    conn.rollback()\n"
   ]
  },
  {
   "cell_type": "code",
   "execution_count": null,
   "id": "f53abc79-a258-4fb7-b775-59109a312baa",
   "metadata": {},
   "outputs": [],
   "source": []
  },
  {
   "cell_type": "markdown",
   "id": "cb44b111-b654-4ac4-b7b2-544e7027b278",
   "metadata": {},
   "source": [
    "#### Adding data from frequency table to db"
   ]
  },
  {
   "cell_type": "code",
   "execution_count": 31,
   "id": "9646df3a-517c-4fcb-b692-5c8f581bb319",
   "metadata": {},
   "outputs": [
    {
     "name": "stdout",
     "output_type": "stream",
     "text": [
      "Inserted: BLUE → 31\n",
      "Inserted: WHITE → 16\n",
      "Inserted: GREEN → 10\n",
      "Inserted: ORANGE → 9\n",
      "Inserted: RED → 9\n",
      "Inserted: BROWN → 6\n",
      "Inserted: YELLOW → 5\n",
      "Inserted: PINK → 5\n",
      "Inserted: CREAM → 2\n",
      "Inserted: ASH → 1\n",
      "Inserted: BLACK → 1\n",
      "\n",
      "All inserts committed successfully.\n"
     ]
    }
   ],
   "source": [
    "try:\n",
    "    for i, row in freq_df.iterrows():\n",
    "        try:\n",
    "            cur.execute(\"\"\"\n",
    "                INSERT INTO colours_data (colour, frequency) \n",
    "                VALUES (%s, %s)\n",
    "                ON CONFLICT (colour) DO NOTHING\n",
    "            \"\"\", (row['colour'], row['frequency'])\n",
    "            )\n",
    "            print(f\"Inserted: {row['colour']} → {row['frequency']}\")\n",
    "        except psycopg2.Error as e:\n",
    "            print(f\"Failed to insert {row['colour']}: {e}\")\n",
    "    conn.commit()\n",
    "    print(\"\\nAll inserts committed successfully.\")\n",
    "except psycopg2.Error as e:\n",
    "    print(\"Error during insert loop or commit:\", e)\n",
    "    conn.rollback()\n"
   ]
  },
  {
   "cell_type": "markdown",
   "id": "9859fbbb-8d0e-4495-b13f-99ac21c96671",
   "metadata": {},
   "source": [
    "#### Reading data from colours_data table to show its there."
   ]
  },
  {
   "cell_type": "code",
   "execution_count": 32,
   "id": "8a1dcb6f-8aa1-4d50-a01d-d6fdd98e0687",
   "metadata": {},
   "outputs": [
    {
     "name": "stdout",
     "output_type": "stream",
     "text": [
      "Data in table:\n",
      "(1, 'BLUE', 31)\n",
      "(2, 'WHITE', 16)\n",
      "(3, 'GREEN', 10)\n",
      "(4, 'ORANGE', 9)\n",
      "(5, 'RED', 9)\n",
      "(6, 'BROWN', 6)\n",
      "(7, 'YELLOW', 5)\n",
      "(8, 'PINK', 5)\n",
      "(9, 'CREAM', 2)\n",
      "(10, 'ASH', 1)\n",
      "(11, 'BLACK', 1)\n"
     ]
    }
   ],
   "source": [
    "cur.execute(\"SELECT * FROM colours_data\")\n",
    "rows = cur.fetchall()\n",
    "print(\"Data in table:\")\n",
    "for row in rows:\n",
    "    print(row)\n",
    "\n",
    "# Close connection\n",
    "cur.close()\n",
    "conn.close()"
   ]
  },
  {
   "cell_type": "code",
   "execution_count": null,
   "id": "aa33ade8-ee88-4440-a604-cd03c135ccbc",
   "metadata": {},
   "outputs": [],
   "source": []
  },
  {
   "cell_type": "code",
   "execution_count": null,
   "id": "1372a135-c657-45c9-b0c8-1f8e436e1903",
   "metadata": {},
   "outputs": [],
   "source": []
  }
 ],
 "metadata": {
  "kernelspec": {
   "display_name": "Python 3 (ipykernel)",
   "language": "python",
   "name": "python3"
  },
  "language_info": {
   "codemirror_mode": {
    "name": "ipython",
    "version": 3
   },
   "file_extension": ".py",
   "mimetype": "text/x-python",
   "name": "python",
   "nbconvert_exporter": "python",
   "pygments_lexer": "ipython3",
   "version": "3.13.2"
  }
 },
 "nbformat": 4,
 "nbformat_minor": 5
}
